{
 "cells": [
  {
   "cell_type": "code",
   "execution_count": 1,
   "metadata": {},
   "outputs": [
    {
     "ename": "SyntaxError",
     "evalue": "invalid syntax (<ipython-input-1-c93fe846a2da>, line 1)",
     "output_type": "error",
     "traceback": [
      "\u001b[1;36m  File \u001b[1;32m\"<ipython-input-1-c93fe846a2da>\"\u001b[1;36m, line \u001b[1;32m1\u001b[0m\n\u001b[1;33m    @prefix rdfs: <http://www.w3.org/2000/01/rdf-schema#> .\u001b[0m\n\u001b[1;37m            ^\u001b[0m\n\u001b[1;31mSyntaxError\u001b[0m\u001b[1;31m:\u001b[0m invalid syntax\n"
     ]
    }
   ],
   "source": [
    "%reload_ext jupyter-rdfify\n",
    "\n",
    "@prefix rdfs: <http://www.w3.org/2000/01/rdf-schema#> .\n",
    "@prefix rdf: <http://www.w3.org/1999/02/22-rdf-syntax-ns#> .\n",
    "@prefix xsd: <http://www.w3.org/2001/XMLSchema#> .\n",
    "@prefix ex: <http://example.com/> .\n",
    "       \n",
    "\n",
    "#Kelurahan \n",
    "\n",
    "ex:Cideng\n",
    "  a ex:kelurahan ;\n",
    "  ex:berkecamatan ex:Gambir ;\n",
    "  ex:JumlahRT \"114\"^^xsd:int ;\n",
    "  ex:JumlahRW \"10\"^^xsd:int .\n",
    "\n",
    "ex:KamalMuara\n",
    "  a ex:kelurahan ;\n",
    "  ex:berkecamatan ex:Penjaringan ;\n",
    "  ex:JumlahRT \"44\"^^xsd:int ;\n",
    "  ex:JumlahRW \"6\"^^xsd:int .\n",
    "\n",
    "ex:TuguUtara\n",
    "  a ex:kelurahan ;\n",
    "  ex:berkecamatan ex:Koja ;\n",
    "  ex:JumlahRT \"214\"^^xsd:int ;\n",
    "  ex:JumlahRW \"19\"^^xsd:int .\n",
    "\n",
    "#Kecamatan\n",
    "\n",
    "ex:Gambir\n",
    "  a ex:kecamatan ;\n",
    "  ex:berkabupaten ex:JakartaPusat ;\n",
    "\n",
    "ex:Penjaringan\n",
    "  a ex:kecamatan ;\n",
    "  ex:berkabupaten ex:JakartaUtara ;\n",
    "\n",
    "ex:Koja\n",
    "  a ex:kecamatan ;\n",
    "  ex:berkabupaten ex:JakartaUtara ;\n",
    "\n",
    "#Kabupaten  \n",
    "\n",
    "ex:JakartaPusat\n",
    "  a ex:kabupaten ;\n",
    "  ex:berprovinsi ex:DKIJakarta .\n",
    "\n",
    "ex:JakartaUtara\n",
    "  a ex:kabupaten ;\n",
    "  ex:berprovinsi ex:DKIJakarta .\n",
    "\n",
    "#Provinsi\n",
    "\n",
    "ex:DKIJakarta\n",
    "  a ex:provinsi .\n",
    "    \n",
    "#<Jakarta Utara> <memiliki kecamatan yang bernama> <Penjaringan> .\n",
    "#<Jakarta Utara> <memiliki kecamatan yang bernama> <Koja> .\n",
    "#ex:JakartaUtara\n",
    "#  a ex:kabupaten ;\n",
    "#  ex:kecamatan ex:Penjaringan, ex:Koja ;\n",
    "#  ex:provinsi DKIJakarta .\n",
    "        "
   ]
  },
  {
   "cell_type": "code",
   "execution_count": null,
   "metadata": {},
   "outputs": [],
   "source": []
  }
 ],
 "metadata": {
  "kernelspec": {
   "display_name": "Python 3",
   "language": "python",
   "name": "python3"
  },
  "language_info": {
   "codemirror_mode": {
    "name": "ipython",
    "version": 3
   },
   "file_extension": ".py",
   "mimetype": "text/x-python",
   "name": "python",
   "nbconvert_exporter": "python",
   "pygments_lexer": "ipython3",
   "version": "3.8.0"
  }
 },
 "nbformat": 4,
 "nbformat_minor": 2
}
